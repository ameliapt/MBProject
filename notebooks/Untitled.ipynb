{
 "cells": [
  {
   "cell_type": "code",
   "execution_count": 1,
   "id": "0107bfcf",
   "metadata": {},
   "outputs": [],
   "source": [
    "import pandas as pd"
   ]
  },
  {
   "cell_type": "code",
   "execution_count": 13,
   "id": "b44f00c8",
   "metadata": {},
   "outputs": [],
   "source": [
    "path = 'C:/Users/ameli/IRONHACK/WEEK_5/MBP/data/clean/'\n",
    "file_name_1 = 'num_turists_by_origin.xlsx'\n",
    "file_name_2 = 'turism_expenditure_by_ccaa_origin.xlsx'\n",
    "\n",
    "num = pd.read_excel(path+file_name_1)\n",
    "num = num.drop('Unnamed: 0', axis = 1)\n",
    "exp = pd.read_excel(path+file_name_2)\n",
    "exp = exp.drop('Unnamed: 0', axis = 1)"
   ]
  },
  {
   "cell_type": "code",
   "execution_count": 14,
   "id": "a0204c89",
   "metadata": {},
   "outputs": [
    {
     "data": {
      "text/html": [
       "<div>\n",
       "<style scoped>\n",
       "    .dataframe tbody tr th:only-of-type {\n",
       "        vertical-align: middle;\n",
       "    }\n",
       "\n",
       "    .dataframe tbody tr th {\n",
       "        vertical-align: top;\n",
       "    }\n",
       "\n",
       "    .dataframe thead th {\n",
       "        text-align: right;\n",
       "    }\n",
       "</style>\n",
       "<table border=\"1\" class=\"dataframe\">\n",
       "  <thead>\n",
       "    <tr style=\"text-align: right;\">\n",
       "      <th></th>\n",
       "      <th>origin</th>\n",
       "      <th>value</th>\n",
       "      <th>date</th>\n",
       "    </tr>\n",
       "  </thead>\n",
       "  <tbody>\n",
       "    <tr>\n",
       "      <th>0</th>\n",
       "      <td>Total</td>\n",
       "      <td>7460277</td>\n",
       "      <td>2022-06-01</td>\n",
       "    </tr>\n",
       "    <tr>\n",
       "      <th>1</th>\n",
       "      <td>Total</td>\n",
       "      <td>6966913</td>\n",
       "      <td>2022-05-01</td>\n",
       "    </tr>\n",
       "    <tr>\n",
       "      <th>2</th>\n",
       "      <td>Total</td>\n",
       "      <td>6102142</td>\n",
       "      <td>2022-04-01</td>\n",
       "    </tr>\n",
       "    <tr>\n",
       "      <th>3</th>\n",
       "      <td>Total</td>\n",
       "      <td>4032127</td>\n",
       "      <td>2022-03-01</td>\n",
       "    </tr>\n",
       "    <tr>\n",
       "      <th>4</th>\n",
       "      <td>Total</td>\n",
       "      <td>3156809</td>\n",
       "      <td>2022-02-01</td>\n",
       "    </tr>\n",
       "  </tbody>\n",
       "</table>\n",
       "</div>"
      ],
      "text/plain": [
       "  origin    value       date\n",
       "0  Total  7460277 2022-06-01\n",
       "1  Total  6966913 2022-05-01\n",
       "2  Total  6102142 2022-04-01\n",
       "3  Total  4032127 2022-03-01\n",
       "4  Total  3156809 2022-02-01"
      ]
     },
     "execution_count": 14,
     "metadata": {},
     "output_type": "execute_result"
    }
   ],
   "source": [
    "num.head()"
   ]
  },
  {
   "cell_type": "code",
   "execution_count": 20,
   "id": "c3b805e8",
   "metadata": {},
   "outputs": [
    {
     "data": {
      "text/plain": [
       "(1293, 3)"
      ]
     },
     "execution_count": 20,
     "metadata": {},
     "output_type": "execute_result"
    }
   ],
   "source": [
    "num.value_counts()\n",
    "num.shape"
   ]
  },
  {
   "cell_type": "code",
   "execution_count": 19,
   "id": "5ea0f893",
   "metadata": {},
   "outputs": [
    {
     "data": {
      "text/plain": [
       "(1152, 5)"
      ]
     },
     "execution_count": 19,
     "metadata": {},
     "output_type": "execute_result"
    }
   ],
   "source": [
    "exp.shape"
   ]
  },
  {
   "cell_type": "code",
   "execution_count": 17,
   "id": "bad1cd9e",
   "metadata": {},
   "outputs": [
    {
     "data": {
      "text/plain": [
       "origin       category                      destiny         value     date      \n",
       "Alemania     Duración media de los viajes  Andalucía       8.96      2019-01-01    1\n",
       "                                                           10.18     2018-01-01    1\n",
       "Reino Unido  Duración media de los viajes  Andalucía       9.70      2016-01-01    1\n",
       "                                                           9.40      2017-01-01    1\n",
       "                                                           9.10      2020-01-01    1\n",
       "                                                                                  ..\n",
       "Francia      Gasto total                   Total Nacional  7593.45   2019-01-01    1\n",
       "                                                           7405.54   2018-01-01    1\n",
       "                                                           7052.36   2017-01-01    1\n",
       "                                                           6776.23   2016-01-01    1\n",
       "Total        Gasto total                   Total Nacional  91911.97  2019-01-01    1\n",
       "Length: 1152, dtype: int64"
      ]
     },
     "execution_count": 17,
     "metadata": {},
     "output_type": "execute_result"
    }
   ],
   "source": [
    "exp.value_counts()"
   ]
  },
  {
   "cell_type": "code",
   "execution_count": null,
   "id": "ddd61c18",
   "metadata": {},
   "outputs": [],
   "source": []
  }
 ],
 "metadata": {
  "kernelspec": {
   "display_name": "Python 3 (ipykernel)",
   "language": "python",
   "name": "python3"
  },
  "language_info": {
   "codemirror_mode": {
    "name": "ipython",
    "version": 3
   },
   "file_extension": ".py",
   "mimetype": "text/x-python",
   "name": "python",
   "nbconvert_exporter": "python",
   "pygments_lexer": "ipython3",
   "version": "3.9.12"
  }
 },
 "nbformat": 4,
 "nbformat_minor": 5
}
