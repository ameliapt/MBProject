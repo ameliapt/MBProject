{
 "cells": [
  {
   "cell_type": "markdown",
   "id": "a83822d5",
   "metadata": {},
   "source": [
    "# Spain's turism industry dashboard\n",
    "\n",
    "### Data Exploration Analysis"
   ]
  },
  {
   "cell_type": "markdown",
   "id": "d2bac92d",
   "metadata": {},
   "source": [
    "Libraries."
   ]
  },
  {
   "cell_type": "code",
   "execution_count": null,
   "id": "ff5aba77",
   "metadata": {},
   "outputs": [],
   "source": [
    "import matplotlib.pyplot as plt\n",
    "import seaborn as sns\n",
    "import pandas as pd"
   ]
  },
  {
   "cell_type": "code",
   "execution_count": null,
   "id": "b94142e8",
   "metadata": {},
   "outputs": [],
   "source": []
  },
  {
   "cell_type": "code",
   "execution_count": null,
   "id": "59757fd1",
   "metadata": {},
   "outputs": [],
   "source": []
  },
  {
   "cell_type": "code",
   "execution_count": null,
   "id": "eab283e9",
   "metadata": {},
   "outputs": [],
   "source": []
  }
 ],
 "metadata": {
  "kernelspec": {
   "display_name": "Python 3 (ipykernel)",
   "language": "python",
   "name": "python3"
  },
  "language_info": {
   "codemirror_mode": {
    "name": "ipython",
    "version": 3
   },
   "file_extension": ".py",
   "mimetype": "text/x-python",
   "name": "python",
   "nbconvert_exporter": "python",
   "pygments_lexer": "ipython3",
   "version": "3.9.12"
  }
 },
 "nbformat": 4,
 "nbformat_minor": 5
}
